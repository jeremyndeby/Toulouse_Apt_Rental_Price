{
 "cells": [
  {
   "cell_type": "markdown",
   "metadata": {},
   "source": [
    "# IV. Create an Interactive Geographic\n",
    "Ref: \n",
    "- https://towardsdatascience.com/how-to-create-an-interactive-geographic-map-using-python-and-bokeh-12981ca0b567"
   ]
  },
  {
   "cell_type": "markdown",
   "metadata": {},
   "source": [
    "If you are looking for a powerful way to visualize geographic data then you should learn to use interactive Choropleth maps. A Choropleth map represents statistical data through various shading patterns or symbols on predetermined geographic areas such as countries, states or counties. Static Choropleth maps are useful for showing one view of data, but an interactive Choropleth map is much more powerful and allows the user to select the data they prefer to view.\n",
    "\n",
    "The interactive chart below provides details on San Francisco single family homes sales. The chart breaks down the single family home sales by Median Sales Price, Minimum Income Required, Average Sales Price, Average Sales Price Per Square Foot, Average Square Footage and Number of Sales all by neighborhood and year (10 years of data)."
   ]
  },
  {
   "cell_type": "code",
   "execution_count": null,
   "metadata": {},
   "outputs": [],
   "source": [
    "import os\n",
    "import pandas as pd\n",
    "from IPython.display import display\n",
    "import numpy as np\n",
    "import seaborn as sns\n",
    "import matplotlib.pyplot as plt\n",
    "import matplotlib.lines as mlines\n",
    "from matplotlib.colors import ListedColormap\n",
    "plt.style.use(style='ggplot')\n",
    "plt.rcParams['figure.figsize'] = (10, 6)\n",
    "from matplotlib.colors import LogNorm\n",
    "from scipy.stats import skew\n",
    "\n",
    "# import necessary packages to work with spatial data in Python\n",
    "\n",
    "\n",
    "\n",
    "pd.options.display.max_columns = None\n",
    "pd.options.display.max_rows = None"
   ]
  },
  {
   "cell_type": "markdown",
   "metadata": {},
   "source": [
    "## Using Python and Bokeh\n",
    "After exploring several different approaches, I found the combination of Python and Bokeh to be the most straightforward and well-documented method for creating interactive maps.\n",
    "\n",
    "Let’s start with the installs and imports you will need for the graphs. Pandas, numpy and math are standard Python libraries used to clean and wrangle the data. The geopandas, json and bokeh imports are libraries needed for the mapping.\n",
    "\n",
    "I work in Colab and needed to install fiona and geopandas."
   ]
  },
  {
   "cell_type": "code",
   "execution_count": null,
   "metadata": {},
   "outputs": [],
   "source": [
    "# Import libraries\n",
    "import pandas as pd\n",
    "import numpy as np\n",
    "import math\n",
    "\n",
    "import fiona\n",
    "import geopandas\n",
    "import json\n",
    "\n",
    "from bokeh.io import output_notebook, show, output_file\n",
    "from bokeh.plotting import figure\n",
    "from bokeh.models import GeoJSONDataSource, LinearColorMapper, ColorBar, NumeralTickFormatter\n",
    "from bokeh.palettes import brewer\n",
    "\n",
    "from bokeh.io.doc import curdoc\n",
    "from bokeh.models import Slider, HoverTool, Select\n",
    "from bokeh.layouts import widgetbox, row, column\n",
    "\n"
   ]
  },
  {
   "cell_type": "markdown",
   "metadata": {},
   "source": []
  },
  {
   "cell_type": "markdown",
   "metadata": {},
   "source": [
    "## 4.1 Load and Clean the Data"
   ]
  },
  {
   "cell_type": "markdown",
   "metadata": {},
   "source": [
    "Here we are importing the data from the csv file"
   ]
  },
  {
   "cell_type": "code",
   "execution_count": null,
   "metadata": {},
   "outputs": [],
   "source": [
    "neighborhood_data = pd.read_csv('data_seloger_EDAforSpatial_part3.csv')\n",
    "neighborhood_data.head()"
   ]
  },
  {
   "cell_type": "markdown",
   "metadata": {},
   "source": [
    "After loading the dataset creating in the previous part we need to clean our data as we want to be able to see on the map for each neighborhood:\n",
    "- The total number of appartments listed\n",
    "- The lowest rent\n",
    "- The highest rent\n",
    "- The average rent\n",
    "- The median rent\n",
    "- The average area in square meters\n",
    "- The median area in square meters\n",
    "- The average rent per square meters\n",
    "- The median rent per square meters\n",
    "\n",
    "\n",
    "A rent per square meters feature is added to neighborhood_data and the dataframe is summarized using groupby and aggregate functions to create the final nbhd_data dataframe with all numeric fields converted to integer values for ease in displaying the data (except for Avg_Rent_SqM and Median_Rent_SqM, we will round them to the first decimal):"
   ]
  },
  {
   "cell_type": "code",
   "execution_count": null,
   "metadata": {},
   "outputs": [],
   "source": [
    "# Create a rent_SqM feature\n",
    "neighborhood_data['Rent_SqM'] = neighborhood_data['rent'] / neighborhood_data['area']\n",
    "\n",
    "# Create a new dataframe with the new features of interest\n",
    "#Max_Rent = round(neighborhood_data.groupby('nbhd_no').rent.max(),0)\n",
    "nbhd_data = neighborhood_data.groupby(['sector_no', 'sector_name', 'nbhd_no', 'nbhd_name']).agg(Tot_Apt_ForRent=('nbhd_no', 'size'),\n",
    "                                              Min_Rent=('rent', 'min'), \n",
    "                                              Max_Rent=('rent', 'max'), \n",
    "                                              Avg_Rent=('rent', np.mean), \n",
    "                                              Median_Rent=('rent', np.median), \n",
    "                                              Avg_Area=('area', np.mean), \n",
    "                                              Median_Area=('area', np.median), \n",
    "                                              Avg_Rent_SqM=('Rent_SqM', np.mean), \n",
    "                                              Median_Rent_SqM=('Rent_SqM', np.median))\n",
    "\n",
    "# Convert index of a pandas dataframe into a column\n",
    "nbhd_data.reset_index('nbhd_name', inplace=True)\n",
    "nbhd_data.reset_index('nbhd_no', inplace=True)\n",
    "nbhd_data.reset_index('sector_name', inplace=True)\n",
    "nbhd_data.reset_index('sector_no', inplace=True)\n",
    "\n",
    "# Convert to integer\n",
    "cols_round0 = ['Tot_Apt_ForRent', \n",
    "               'Min_Rent', 'Max_Rent', 'Avg_Rent','Median_Rent', \n",
    "               'Avg_Area', 'Median_Area']\n",
    "for i in cols_round0:\n",
    "    nbhd_data = nbhd_data.astype({i: 'int'})\n",
    "    \n",
    "# Round to the first decimal \n",
    "cols_round1 = ['Avg_Rent_SqM','Median_Rent_SqM']\n",
    "nbhd_data[cols_round1] = nbhd_data[cols_round1].round(1)\n",
    "\n",
    "nbhd_data.sort_values(by=['nbhd_no'])"
   ]
  },
  {
   "cell_type": "markdown",
   "metadata": {},
   "source": [
    "We now need to map this data onto a Toulouse neighborhood map."
   ]
  },
  {
   "cell_type": "markdown",
   "metadata": {},
   "source": [
    "## Prepare the Mapping Data and GeoDataFrame\n",
    "\"We will be working with GeoJSON, a popular open standard for representing geographical features with JSON. JSON (JavaScript Object Notation), is a minimal, readable format for structuring data. Bokeh uses JSON to transmit data between a bokeh server and a web application.\n",
    "\n",
    "In a typical Bokeh interactive graph the data source needs to be a ColumnDataSource. This is a key concept in Bokeh. However, when using a map we use a GeoJSONDataSource instead.\n",
    "\n",
    "To make our work with geospatial data in Python easier we use GeoPandas. It combines the capabilities of pandas and shapely, providing geospatial operations in pandas and a high-level interface to multiple geometries to shapely. We will use GeoPandas to create a GeoDataFrame - a precursor to creating the GeoJSONDataSource.\" Jim King"
   ]
  },
  {
   "cell_type": "markdown",
   "metadata": {},
   "source": [
    "Finally, we need a map that is in GeoJSON format. Toulouse, through their website https://data.toulouse-metropole.fr/, has some exportable neighborhood maps in GeoJSON format providing various demographic. We will import one of them into a GeoDataframe object."
   ]
  },
  {
   "cell_type": "code",
   "execution_count": null,
   "metadata": {},
   "outputs": [],
   "source": [
    "# Read the geojson map file for Realtor Neighborhoods into a GeoDataframe object\n",
    "tlse = geopandas.read_file('recensement-population-2015-grands-quartiers-population.geojson')\n",
    "tlse.head()"
   ]
  },
  {
   "cell_type": "markdown",
   "metadata": {},
   "source": [
    "A key column of the data is the neighborhood code (grd_quart) which needs to match the mapping code for the neighborhood. This will allow us to merge the data with the map. Before merging the data we then need to make sure the neighborhoods in both files do match."
   ]
  },
  {
   "cell_type": "markdown",
   "metadata": {},
   "source": [
    "First let's take a look at the neighborhoods (column 'libelle_des_grands_quartiers') displayed in nbhd_data Dataframe:"
   ]
  },
  {
   "cell_type": "code",
   "execution_count": null,
   "metadata": {},
   "outputs": [],
   "source": [
    "print('Numbers of unique neighborhoods in nbhd_data: {} '.format(nbhd_data['nbhd_name'].describe()))"
   ]
  },
  {
   "cell_type": "markdown",
   "metadata": {},
   "source": [
    "There are 20 unique neighborhoods in nbhd_data Dataframe. \n",
    "Now let's take a look at the neighborhoods (column 'libelle_des_grands_quartiers') displayed in tlse GeoDataframe:"
   ]
  },
  {
   "cell_type": "code",
   "execution_count": null,
   "metadata": {},
   "outputs": [],
   "source": [
    "print('Numbers of unique neighborhoods in tlse: {} '.format(tlse['libelle_des_grands_quartiers'].describe()))"
   ]
  },
  {
   "cell_type": "markdown",
   "metadata": {},
   "source": [
    "There are 60 unique neighborhoods in tlse GeoDataframe and thus three times more neighborhoods in the file imported from the Toulouse website. By taking a visual look at the neighborhood names we identify that each neighborhood have been divided in smaller ones in the GeoDataFrame.  To fix this issue we need to: \n",
    "1. Create a dictionary to change the neighborhood codes in the map to match the neighborhood codes in the data\n",
    "2. Dissolve the polygons Based On an the new neighborhood codes"
   ]
  },
  {
   "cell_type": "code",
   "execution_count": null,
   "metadata": {},
   "outputs": [],
   "source": [
    "# Create a dictionary to change the neighborhood codes to neighborhood names.\n",
    "nbhd_dict = {'3155507': 'n1_2','3155533': 'n2_3','3155502': 'n1_1','3155532': 'n2_3',\n",
    "             '3155537': 'n3_1','3155556': 'n6_2','3155552': 'n6_3','3155519': 'n4_1',                            \n",
    "             '3155501': 'n1_1','3155505': 'n1_1','3155535': 'n2_4','3155545': 'n4_3',                            \n",
    "             '3155508': 'n1_2','3155522': 'n4_3','3155540': 'n3_3','3155528': 'n2_2',\n",
    "             '3155527': 'n5_3','3155530': 'n2_3','3155515': 'n2_1','3155531': 'n2_3',\n",
    "             '3155536': 'n3_2','3155541': 'n4_2','3155521': 'n4_3','3155526': 'n5_2',                        \n",
    "             '3155543': 'n4_2','3155534': 'n6_2','3155551': 'n6_4','3155546': 'n5_1',\n",
    "             '3155538': 'n3_2','3155558': 'n6_2','3155512': 'n5_3','3155509': 'n1_3',\n",
    "             '3155539': 'n3_3','3155557': 'n6_2','3155520': 'n4_1','3155510': 'n1_3',\n",
    "             '3155518': 'n3_1','3155554': 'n6_3','3155547': 'n5_1','3155529': 'n2_3',\n",
    "             '3155516': 'n2_1','3155523': 'n5_1','3155549': 'n5_3','3155560': 'n6_1',\n",
    "             '3155514': 'n5_3','3155548': 'n5_2','3155553': 'n6_3','3155542': 'n4_2',\n",
    "             '3155525': 'n5_3','3155511': 'n1_3','3155506': 'n2_1','3155504': 'n1_1',               \n",
    "             '3155503': 'n1_1','3155559': 'n6_1','3155513': 'n5_3','3155555': 'n6_4',\n",
    "             '3155524': 'n5_2','3155517': 'n3_2','3155544': 'n4_2','3155550': 'n6_4'}\n",
    "\n",
    "# Create a neighborhood name from the dictionary neighborhood_dict\n",
    "tlse['nbhd_no'] = tlse['grd_quart'].map(nbhd_dict)"
   ]
  },
  {
   "cell_type": "code",
   "execution_count": null,
   "metadata": {},
   "outputs": [],
   "source": [
    "# select the columns that you wish to retain in the data\n",
    "tlse_short = tlse[['nbhd_no', 'geometry']]\n",
    "\n",
    "# then summarize the quantative columns by 'sum' \n",
    "tlse_agg = tlse_short.dissolve(by='nbhd_no', aggfunc = 'sum')\n",
    "\n",
    "# Convert index of a pandas dataframe into a column\n",
    "tlse_agg.reset_index('nbhd_no', inplace=True)\n",
    "\n",
    "tlse_agg.columns"
   ]
  },
  {
   "cell_type": "markdown",
   "metadata": {},
   "source": [
    "We use geopandas to read the geojson map into the GeoDataFrame sf. We then set the coordinate reference system to lat-long projection. Next, we rename several columns and use set_geometry to set the GeoDataFrame to column ‘geometry’ containing the active geometry (the description of the shapes to draw). Finally, we clean up some neighborhood id’s to match neighborhood_data."
   ]
  },
  {
   "cell_type": "code",
   "execution_count": null,
   "metadata": {},
   "outputs": [],
   "source": [
    "# Set the Coordinate Referance System (crs) for projections\n",
    "# ESPG code 4326 is also referred to as WGS84 lat-long projection\n",
    "tlse_agg.crs = {'init': 'epsg:4326'}"
   ]
  },
  {
   "cell_type": "markdown",
   "metadata": {},
   "source": [
    "We now have our neighborhood data in nbhd_data and our mapping data in tlse with both sharing the neighborhood code column subdist_no."
   ]
  },
  {
   "cell_type": "markdown",
   "metadata": {},
   "source": [
    "## Create the Interactive Plot"
   ]
  },
  {
   "cell_type": "markdown",
   "metadata": {},
   "source": [
    "#### Create the JSON Data for the GeoJSONDataSource"
   ]
  },
  {
   "cell_type": "markdown",
   "metadata": {},
   "source": [
    "We now need to merges our neighborhood data with our mapping data and converts it into JSON format for the Bokeh server."
   ]
  },
  {
   "cell_type": "code",
   "execution_count": null,
   "metadata": {},
   "outputs": [],
   "source": [
    "# Merge the GeoDataframe object (tlse_agg) with the neighborhood summary data (neighborhood)\n",
    "merged = pd.merge(tlse_agg, nbhd_data, on='nbhd_no', how='left')\n",
    "\n",
    "# Bokeh uses geojson formatting, representing geographical features, with json\n",
    "# Convert to json\n",
    "merged_json = json.loads(merged.to_json())\n",
    "\n",
    "# Convert to json preferred string-like object \n",
    "json_data = json.dumps(merged_json)"
   ]
  },
  {
   "cell_type": "markdown",
   "metadata": {},
   "source": [
    "#### Create The ColorBar\n",
    "The ColorBar is “attached” to the plot and the entire plot needs to be refreshed when a change in the criteria is requested. Each criteria has it’s own unique minimum and maximum range, format for displaying and verbage. For example, Number of Appartment For Rent has a range of 0–100, a format as an integer and the name 'Number of Appartment For Rent' that needs to be changed in the title of the plot.\n",
    "\n",
    "So we need to create a format_df that details the data needed in the ColorBar and title."
   ]
  },
  {
   "cell_type": "code",
   "execution_count": null,
   "metadata": {},
   "outputs": [],
   "source": [
    "merged.describe()"
   ]
  },
  {
   "cell_type": "code",
   "execution_count": null,
   "metadata": {},
   "outputs": [],
   "source": [
    "# This dictionary contains the formatting for the data in the plots\n",
    "format_data = [('Tot_Apt_ForRent', 0, 500, '0,0', 'Number of Appartment For Rent'),\n",
    "               ('Min_Rent', 250, 550, '$0,0 ', 'Minimum Rent'),\n",
    "               ('Max_Rent', 850, 3000, '0,0', 'Maximum Rent'),\n",
    "               ('Avg_Rent', 550, 800, '$0,0', 'Average Rent'),\n",
    "               ('Median_Rent', 550, 750, '$0,0', 'Median Rent'),\n",
    "               ('Avg_Area', 40, 60, '0,0', 'Average Area in Square Meters'),\n",
    "               ('Median_Area', 40, 60, '0,0', 'Median Area in Square Meters'),\n",
    "               ('Avg_Rent_SqM', 11, 18, '$0,0', 'Average Rent per Square Meter'),\n",
    "               ('Median_Rent_SqM', 11, 18, '$0,0', 'Median Rent per Square Meter')]\n",
    " \n",
    "#Create a DataFrame object from the dictionary \n",
    "format_df = pd.DataFrame(format_data, columns = ['field' , 'min_range', 'max_range' , 'format', 'verbage'])"
   ]
  },
  {
   "cell_type": "markdown",
   "metadata": {},
   "source": [
    "The callback function update_plot has three parameters. The attr parameter is simply the ‘value’ you passed (e.g. slider.value or select.value), the old and new are internal parameters used by Bokeh and you do not need to deal with them.\n",
    "\n",
    "We select re-set the input_field (Select) based on criteria (cr) before re-seting the plot based on the current input_field."
   ]
  },
  {
   "cell_type": "code",
   "execution_count": null,
   "metadata": {},
   "outputs": [],
   "source": [
    "# Define the callback function: update_plot\n",
    "def update_plot(attr, old, new):\n",
    "    # The input cr is the criteria selected from the select box\n",
    "    cr = select.value\n",
    "    input_field = format_df.loc[format_df['verbage'] == cr, 'field'].iloc[0]\n",
    "    \n",
    "    # Update the plot based on the changed inputs\n",
    "    p = make_plot(input_field)\n",
    "    \n",
    "    # Update the layout, clear the old document and display the new document\n",
    "    layout = column(p, widgetbox(select))\n",
    "    curdoc().clear()\n",
    "    curdoc().add_root(layout)\n",
    "    \n",
    "    # Update the data\n",
    "    geosource.geojson = json_data "
   ]
  },
  {
   "cell_type": "markdown",
   "metadata": {},
   "source": [
    "#### Create a Plotting Function\n",
    "The final piece of the map is make_plot, the plotting function. Let’s break this down:\n",
    "1. We pass it the field_name to indicate which column of data we want to plot (e.g. Median Sales Price).\n",
    "2. Using the format_df we pull out the minimum range, maximum range and formatting for the ColorBar.\n",
    "3. We call Bokeh’s LinearColorMapper to set the palette and range of the colorbar.\n",
    "4. We create the ColorBar using Bokeh’s NumeralTickFormatter and ColorBar.\n",
    "5. We create the plot figure with appropriate title.\n",
    "6. We create the “patches”, in our case the neighborhood polygons, using Bokeh’s p.patches glyph using the data in geosource.\n",
    "7. We add the colorbar and the HoverTool to the plot and return the plot p."
   ]
  },
  {
   "cell_type": "code",
   "execution_count": null,
   "metadata": {},
   "outputs": [],
   "source": [
    "# Create a plotting function\n",
    "def make_plot(field_name):    \n",
    "    # Set the format of the colorbar\n",
    "    min_range = format_df.loc[format_df['field'] == field_name, 'min_range'].iloc[0]\n",
    "    max_range = format_df.loc[format_df['field'] == field_name, 'max_range'].iloc[0]\n",
    "    field_format = format_df.loc[format_df['field'] == field_name, 'format'].iloc[0]\n",
    "\n",
    "    # Instantiate LinearColorMapper that linearly maps numbers in a range, into a sequence of colors.\n",
    "    color_mapper = LinearColorMapper(palette = palette, low = min_range, high = max_range)\n",
    "\n",
    "    # Create color bar.\n",
    "    format_tick = NumeralTickFormatter(format=field_format)\n",
    "    color_bar = ColorBar(color_mapper=color_mapper, label_standoff=18, formatter=format_tick,\n",
    "    border_line_color=None, location = (0, 0))\n",
    "\n",
    "    # Create figure object.\n",
    "    verbage = format_df.loc[format_df['field'] == field_name, 'verbage'].iloc[0]\n",
    "\n",
    "    p = figure(title = verbage + ' by Neighborhood for Appartments for Rent in Toulouse (2020)', \n",
    "             plot_height = 650, plot_width = 850,\n",
    "             toolbar_location = None)\n",
    "    p.xgrid.grid_line_color = None\n",
    "    p.ygrid.grid_line_color = None\n",
    "    p.axis.visible = False\n",
    "\n",
    "    # Add patch renderer to figure. \n",
    "    p.patches('xs','ys', source = geosource, fill_color = {'field' : field_name, 'transform' : color_mapper},\n",
    "          line_color = 'black', line_width = 0.25, fill_alpha = 1)\n",
    "\n",
    "    # Specify color bar layout.\n",
    "    p.add_layout(color_bar, 'right')\n",
    "\n",
    "    # Add the hover tool to the graph\n",
    "    p.add_tools(hover)\n",
    "    return p"
   ]
  },
  {
   "cell_type": "markdown",
   "metadata": {},
   "source": [
    "#### Main Code for Interactive Map\n",
    "We still need several pieces of code to make the interactive map including a ColorBar, Bokeh widgets and tools, a plotting function and an update function, but before we go into detail on those pieces let’s take a look at the main code."
   ]
  },
  {
   "cell_type": "code",
   "execution_count": null,
   "metadata": {},
   "outputs": [],
   "source": [
    "# Input geojson source that contains features for plotting for:\n",
    "# initial year 2018 and initial criteria sale_price_median\n",
    "geosource = GeoJSONDataSource(geojson = json_data)\n",
    "\n",
    "# Define a sequential multi-hue color palette.\n",
    "palette = brewer['Purples'][9] # \"La Garonne est viola\"\n",
    "\n",
    "# Reverse color order so that dark blue is highest obesity.\n",
    "palette = palette[::-1]"
   ]
  },
  {
   "cell_type": "markdown",
   "metadata": {},
   "source": [
    "#### The HoverTool\n",
    "The HoverTool is a fairly straightforward Bokeh tool that allows the user to hover over an item and display values. In the main code we insert HoverTool code and tell it to use the data based on the neighborhood_name and display the six criteria using “@” to indicate the column values."
   ]
  },
  {
   "cell_type": "code",
   "execution_count": null,
   "metadata": {},
   "outputs": [],
   "source": [
    "# Add hover tool\n",
    "hover = HoverTool(tooltips = [ ('Sector','@sector_name'),\n",
    "                               ('Neighborhood','@nbhd_name'),\n",
    "                               ('#Apt. For Rent', '@Tot_Apt_ForRent available'),\n",
    "                               ('Average Rent', '@Avg_Rent{,} €'),\n",
    "                               ('Median Rent', '@Median_Rent{,} €'),\n",
    "                               ('Median Area', '@Median_Area{,} SqM'),\n",
    "                               ('Median Rent/SqM', '@Median_Rent_SqM{0.2f} €/SqM'),\n",
    "                               ('Minimum Rent', '@Min_Rent{,} €'),\n",
    "                               ('Maximum Rent', '@Max_Rent{,} €')])\n",
    "               \n",
    "# Call the plotting function\n",
    "input_field = 'Median_Rent_SqM'\n",
    "p = make_plot(input_field)"
   ]
  },
  {
   "cell_type": "markdown",
   "metadata": {},
   "source": [
    "#### Widgets and The Callback Function\n",
    "We need to use a Bokeh widgets, more precisely a Select object allows the user to select the criteria (or column).\n",
    "This widget works on the following principle - the callback. \n",
    "In the code below, the widgets pass a ‘value’ and call a function named update_plot when the .on_change method is called (when a change is made using the widget - the event handler)."
   ]
  },
  {
   "cell_type": "code",
   "execution_count": null,
   "metadata": {},
   "outputs": [],
   "source": [
    "# Make a selection object: select\n",
    "select = Select(title='Select Criteria:', value='Median Sales Price', options=['Median Rent', 'Average Rent',\n",
    "                                                                               'Median Rent per Square Meter', 'Average Rent per Square Meter',\n",
    "                                                                               'Median Area in Square Meters', 'Average Area in Square Meters',\n",
    "                                                                               'Minimum Rent','Maximum Rent',\n",
    "                                                                               'Number of Appartment For Rent'])\n",
    "\n",
    "select.on_change('value', update_plot)"
   ]
  },
  {
   "cell_type": "markdown",
   "metadata": {},
   "source": [
    "#### The Static Map with ColorBar and HoverTool"
   ]
  },
  {
   "cell_type": "code",
   "execution_count": null,
   "metadata": {},
   "outputs": [],
   "source": [
    "# Use the following code to test in a notebook, comment out for transfer to live site\n",
    "# Interactive features will not show in notebook\n",
    "output_notebook()\n",
    "show(p)"
   ]
  },
  {
   "cell_type": "code",
   "execution_count": null,
   "metadata": {},
   "outputs": [],
   "source": [
    "output_file('test.html')\n",
    "show(p)"
   ]
  },
  {
   "cell_type": "markdown",
   "metadata": {},
   "source": [
    "#### The Bokeh Server\n",
    "I developed the static map using 2018 data and Median Sales Price in Colab in order to get the majority of the code working prior to adding the interactive portions. In order to test and view the interactive components of Bokeh, you will need to follow these steps.\n",
    "1. Install the Bokeh server on your computer.\n",
    "2. Download the .ipynb file to a local directory on your computer.\n",
    "3. From the terminal change the directory to the directory with the .ipynb file.\n",
    "4. From the terminal run the following command: bokeh serve (two dashes)show filename.ipynb\n",
    "5. This should open a local host on your browser and output your interactive graph. If there is an error it should be visible in the terminal."
   ]
  },
  {
   "cell_type": "code",
   "execution_count": null,
   "metadata": {},
   "outputs": [],
   "source": []
  },
  {
   "cell_type": "code",
   "execution_count": null,
   "metadata": {},
   "outputs": [],
   "source": [
    "bokeh serve:show filename.ipynb"
   ]
  },
  {
   "cell_type": "code",
   "execution_count": null,
   "metadata": {},
   "outputs": [],
   "source": [
    "import Jinja2\n",
    "import packaging\n",
    "import pillow\n",
    "import dateutil\n",
    "import PyYAML\n",
    "import six\n",
    "import tornado\n",
    "import Futures\n",
    "import bokeh"
   ]
  },
  {
   "cell_type": "markdown",
   "metadata": {},
   "source": [
    "#### Public Access to the Interactive Graph via Heroku\n",
    "Once you get the interactive graph working locally, you can let others access it by using a public Bokeh hosting service such as Heroku. Heroku will host the interactive graph allowing you to link to it (as in this article) or use an iframe such as on my GitHub Pages site.\n",
    "The basic steps to host on Heroku are:\n",
    "1. Change the Colab notebook to comment out the install of fiona and geopandas. Heroku has these items and the build will fail if they are in the code.\n",
    "2. Change the Colab notebook to comment out the last two lines (output_notebook() and show(p)).\n",
    "3. Download the Colab notebook as a .py file and upload it to a GitHub repository.\n",
    "4. Create a Heroku app and connect to your GitHub repository containing your .py file.\n",
    "5. Create a Procfile and requirements.txt file. See mine in my GitHub.\n",
    "6. Run the app!\n"
   ]
  },
  {
   "cell_type": "code",
   "execution_count": null,
   "metadata": {},
   "outputs": [],
   "source": []
  }
 ],
 "metadata": {
  "kernelspec": {
   "display_name": "Python 3",
   "language": "python",
   "name": "python3"
  },
  "language_info": {
   "codemirror_mode": {
    "name": "ipython",
    "version": 3
   },
   "file_extension": ".py",
   "mimetype": "text/x-python",
   "name": "python",
   "nbconvert_exporter": "python",
   "pygments_lexer": "ipython3",
   "version": "3.7.4"
  }
 },
 "nbformat": 4,
 "nbformat_minor": 2
}
